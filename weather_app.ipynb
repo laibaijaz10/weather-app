{
  "nbformat": 4,
  "nbformat_minor": 0,
  "metadata": {
    "colab": {
      "provenance": []
    },
    "kernelspec": {
      "name": "python3",
      "display_name": "Python 3"
    },
    "language_info": {
      "name": "python"
    }
  },
  "cells": [
    {
      "cell_type": "code",
      "execution_count": 1,
      "metadata": {
        "colab": {
          "base_uri": "https://localhost:8080/"
        },
        "id": "ljD5k4Nq-lDr",
        "outputId": "21f6b894-99b5-45ea-ea0e-67510bf182f7"
      },
      "outputs": [
        {
          "output_type": "stream",
          "name": "stdout",
          "text": [
            "Requirement already satisfied: requests in /usr/local/lib/python3.11/dist-packages (2.32.3)\n",
            "Requirement already satisfied: charset-normalizer<4,>=2 in /usr/local/lib/python3.11/dist-packages (from requests) (3.4.1)\n",
            "Requirement already satisfied: idna<4,>=2.5 in /usr/local/lib/python3.11/dist-packages (from requests) (3.10)\n",
            "Requirement already satisfied: urllib3<3,>=1.21.1 in /usr/local/lib/python3.11/dist-packages (from requests) (2.4.0)\n",
            "Requirement already satisfied: certifi>=2017.4.17 in /usr/local/lib/python3.11/dist-packages (from requests) (2025.1.31)\n"
          ]
        }
      ],
      "source": [
        "pip install requests"
      ]
    },
    {
      "cell_type": "code",
      "source": [
        "import requests\n",
        "\n",
        "API_KEY = \"b72086267fd0473fb2b134458253004 \"\n",
        "city = input(\"Enter city name: \")\n",
        "url = f\"http://api.weatherapi.com/v1/forecast.json?key={API_KEY}&q={city}&days=3&aqi=no&alerts=no\"\n",
        "\n",
        "response = requests.get(url)\n",
        "data = response.json()\n",
        "\n",
        "if response.status_code == 200:\n",
        "    forecast_days = data['forecast']['forecastday']\n",
        "\n",
        "    for day in forecast_days:\n",
        "        print(f\"\\n📅 Date: {day['date']}\")\n",
        "        print(f\"🌤️ Condition: {day['day']['condition']['text']}\")\n",
        "        print(f\"🌡️ Max Temp: {day['day']['maxtemp_c']}°C\")\n",
        "        print(f\"🌡️ Min Temp: {day['day']['mintemp_c']}°C\")\n",
        "        print(f\"🌡️ Avg Temp: {day['day']['avgtemp_c']}°C\")\n",
        "        print(\"🕒 Hourly Forecast:\")\n",
        "\n",
        "        for hour in day['hour']:\n",
        "            time = hour['time']\n",
        "            temp = hour['temp_c']\n",
        "            condition = hour['condition']['text']\n",
        "            print(f\"   - {time}: {temp}°C, {condition}\")\n",
        "else:\n",
        "    print(\"❌ Error fetching data.\")\n"
      ],
      "metadata": {
        "colab": {
          "base_uri": "https://localhost:8080/"
        },
        "id": "f5BY47iv_3XK",
        "outputId": "e0552299-f60f-4207-e981-32bb260a6e16"
      },
      "execution_count": 4,
      "outputs": [
        {
          "output_type": "stream",
          "name": "stdout",
          "text": [
            "Enter city name: bhera\n",
            "\n",
            "📅 Date: 2025-04-30\n",
            "🌤️ Condition: Patchy rain nearby\n",
            "🌡️ Max Temp: 33.9°C\n",
            "🌡️ Min Temp: 24.5°C\n",
            "🌡️ Avg Temp: 29.1°C\n",
            "🕒 Hourly Forecast:\n",
            "   - 2025-04-30 00:00: 26.2°C, Clear \n",
            "   - 2025-04-30 01:00: 26.0°C, Patchy rain nearby\n",
            "   - 2025-04-30 02:00: 25.6°C, Clear \n",
            "   - 2025-04-30 03:00: 25.0°C, Clear \n",
            "   - 2025-04-30 04:00: 24.5°C, Clear \n",
            "   - 2025-04-30 05:00: 24.7°C, Patchy rain nearby\n",
            "   - 2025-04-30 06:00: 24.8°C, Sunny\n",
            "   - 2025-04-30 07:00: 25.9°C, Sunny\n",
            "   - 2025-04-30 08:00: 27.5°C, Sunny\n",
            "   - 2025-04-30 09:00: 29.9°C, Sunny\n",
            "   - 2025-04-30 10:00: 31.4°C, Sunny\n",
            "   - 2025-04-30 11:00: 32.7°C, Partly Cloudy \n",
            "   - 2025-04-30 12:00: 33.7°C, Thundery outbreaks in nearby\n",
            "   - 2025-04-30 13:00: 33.8°C, Patchy light rain in area with thunder\n",
            "   - 2025-04-30 14:00: 33.7°C, Thundery outbreaks in nearby\n",
            "   - 2025-04-30 15:00: 33.3°C, Sunny\n",
            "   - 2025-04-30 16:00: 33.9°C, Sunny\n",
            "   - 2025-04-30 17:00: 33.6°C, Sunny\n",
            "   - 2025-04-30 18:00: 32.4°C, Sunny\n",
            "   - 2025-04-30 19:00: 30.2°C, Patchy light rain in area with thunder\n",
            "   - 2025-04-30 20:00: 29.3°C, Clear \n",
            "   - 2025-04-30 21:00: 27.7°C, Partly Cloudy \n",
            "   - 2025-04-30 22:00: 26.3°C, Clear \n",
            "   - 2025-04-30 23:00: 26.6°C, Clear \n",
            "\n",
            "📅 Date: 2025-05-01\n",
            "🌤️ Condition: Patchy rain nearby\n",
            "🌡️ Max Temp: 36.6°C\n",
            "🌡️ Min Temp: 24.3°C\n",
            "🌡️ Avg Temp: 29.8°C\n",
            "🕒 Hourly Forecast:\n",
            "   - 2025-05-01 00:00: 26.7°C, Clear \n",
            "   - 2025-05-01 01:00: 26.4°C, Clear \n",
            "   - 2025-05-01 02:00: 26.2°C, Clear \n",
            "   - 2025-05-01 03:00: 25.8°C, Clear \n",
            "   - 2025-05-01 04:00: 25.6°C, Clear \n",
            "   - 2025-05-01 05:00: 24.3°C, Patchy rain nearby\n",
            "   - 2025-05-01 06:00: 25.1°C, Sunny\n",
            "   - 2025-05-01 07:00: 26.7°C, Patchy rain nearby\n",
            "   - 2025-05-01 08:00: 28.3°C, Sunny\n",
            "   - 2025-05-01 09:00: 30.1°C, Sunny\n",
            "   - 2025-05-01 10:00: 31.8°C, Sunny\n",
            "   - 2025-05-01 11:00: 33.4°C, Sunny\n",
            "   - 2025-05-01 12:00: 34.6°C, Sunny\n",
            "   - 2025-05-01 13:00: 35.7°C, Sunny\n",
            "   - 2025-05-01 14:00: 36.6°C, Thundery outbreaks in nearby\n",
            "   - 2025-05-01 15:00: 36.6°C, Patchy light rain in area with thunder\n",
            "   - 2025-05-01 16:00: 36.2°C, Partly Cloudy \n",
            "   - 2025-05-01 17:00: 35.9°C, Thundery outbreaks in nearby\n",
            "   - 2025-05-01 18:00: 35.0°C, Thundery outbreaks in nearby\n",
            "   - 2025-05-01 19:00: 33.5°C, Thundery outbreaks in nearby\n",
            "   - 2025-05-01 20:00: 25.8°C, Patchy rain nearby\n",
            "   - 2025-05-01 21:00: 24.6°C, Clear \n",
            "   - 2025-05-01 22:00: 25.0°C, Clear \n",
            "   - 2025-05-01 23:00: 25.6°C, Partly Cloudy \n",
            "\n",
            "📅 Date: 2025-05-02\n",
            "🌤️ Condition: Patchy rain nearby\n",
            "🌡️ Max Temp: 35.9°C\n",
            "🌡️ Min Temp: 24.2°C\n",
            "🌡️ Avg Temp: 30.2°C\n",
            "🕒 Hourly Forecast:\n",
            "   - 2025-05-02 00:00: 25.7°C, Clear \n",
            "   - 2025-05-02 01:00: 25.1°C, Patchy rain nearby\n",
            "   - 2025-05-02 02:00: 24.2°C, Patchy rain nearby\n",
            "   - 2025-05-02 03:00: 24.8°C, Partly Cloudy \n",
            "   - 2025-05-02 04:00: 25.0°C, Clear \n",
            "   - 2025-05-02 05:00: 24.9°C, Clear \n",
            "   - 2025-05-02 06:00: 25.0°C, Sunny\n",
            "   - 2025-05-02 07:00: 26.5°C, Sunny\n",
            "   - 2025-05-02 08:00: 28.1°C, Sunny\n",
            "   - 2025-05-02 09:00: 29.5°C, Sunny\n",
            "   - 2025-05-02 10:00: 30.8°C, Sunny\n",
            "   - 2025-05-02 11:00: 31.8°C, Sunny\n",
            "   - 2025-05-02 12:00: 33.1°C, Sunny\n",
            "   - 2025-05-02 13:00: 34.0°C, Partly Cloudy \n",
            "   - 2025-05-02 14:00: 34.8°C, Sunny\n",
            "   - 2025-05-02 15:00: 35.7°C, Partly Cloudy \n",
            "   - 2025-05-02 16:00: 35.9°C, Partly Cloudy \n",
            "   - 2025-05-02 17:00: 35.6°C, Partly Cloudy \n",
            "   - 2025-05-02 18:00: 34.9°C, Partly Cloudy \n",
            "   - 2025-05-02 19:00: 33.5°C, Partly Cloudy \n",
            "   - 2025-05-02 20:00: 33.1°C, Cloudy \n",
            "   - 2025-05-02 21:00: 32.6°C, Cloudy \n",
            "   - 2025-05-02 22:00: 30.9°C, Patchy rain nearby\n",
            "   - 2025-05-02 23:00: 29.8°C, Partly Cloudy \n"
          ]
        }
      ]
    }
  ]
}